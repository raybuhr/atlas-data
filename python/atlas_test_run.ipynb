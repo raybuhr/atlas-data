{
 "cells": [
  {
   "cell_type": "markdown",
   "metadata": {},
   "source": [
    "## Data Collection"
   ]
  },
  {
   "cell_type": "code",
   "execution_count": 1,
   "metadata": {
    "collapsed": true
   },
   "outputs": [],
   "source": [
    "import requests\n",
    "import pandas as pd\n",
    "import json"
   ]
  },
  {
   "cell_type": "code",
   "execution_count": 2,
   "metadata": {
    "collapsed": true
   },
   "outputs": [],
   "source": [
    "test_api_call = \"http://comtrade.un.org/api/get?max=50000&type=C&freq=A&px=HS&ps=2013&r=826&p=0&rg=all&cc=AG2&fmt=json\""
   ]
  },
  {
   "cell_type": "code",
   "execution_count": 3,
   "metadata": {
    "collapsed": false
   },
   "outputs": [],
   "source": [
    "r = requests.get(test_api_call)"
   ]
  },
  {
   "cell_type": "code",
   "execution_count": 5,
   "metadata": {
    "collapsed": false
   },
   "outputs": [],
   "source": [
    "r_txt = r.text"
   ]
  },
  {
   "cell_type": "code",
   "execution_count": 6,
   "metadata": {
    "collapsed": false
   },
   "outputs": [],
   "source": [
    "un_data = json.loads(r_txt)"
   ]
  },
  {
   "cell_type": "code",
   "execution_count": 10,
   "metadata": {
    "collapsed": false
   },
   "outputs": [],
   "source": [
    "un_df = pd.DataFrame.from_dict(un_data['dataset'])"
   ]
  },
  {
   "cell_type": "markdown",
   "metadata": {},
   "source": [
    "## Examine Initial Data"
   ]
  },
  {
   "cell_type": "code",
   "execution_count": 11,
   "metadata": {
    "collapsed": false
   },
   "outputs": [
    {
     "data": {
      "text/html": [
       "<div>\n",
       "<table border=\"1\" class=\"dataframe\">\n",
       "  <thead>\n",
       "    <tr style=\"text-align: right;\">\n",
       "      <th></th>\n",
       "      <th>AltQuantity</th>\n",
       "      <th>CIFValue</th>\n",
       "      <th>FOBValue</th>\n",
       "      <th>GrossWeight</th>\n",
       "      <th>IsLeaf</th>\n",
       "      <th>NetWeight</th>\n",
       "      <th>TradeQuantity</th>\n",
       "      <th>TradeValue</th>\n",
       "      <th>aggrLevel</th>\n",
       "      <th>cmdCode</th>\n",
       "      <th>...</th>\n",
       "      <th>qtAltCode</th>\n",
       "      <th>qtAltDesc</th>\n",
       "      <th>qtCode</th>\n",
       "      <th>qtDesc</th>\n",
       "      <th>rgCode</th>\n",
       "      <th>rgDesc</th>\n",
       "      <th>rt3ISO</th>\n",
       "      <th>rtCode</th>\n",
       "      <th>rtTitle</th>\n",
       "      <th>yr</th>\n",
       "    </tr>\n",
       "  </thead>\n",
       "  <tbody>\n",
       "    <tr>\n",
       "      <th>0</th>\n",
       "      <td>None</td>\n",
       "      <td>None</td>\n",
       "      <td>None</td>\n",
       "      <td>None</td>\n",
       "      <td>0</td>\n",
       "      <td>None</td>\n",
       "      <td>None</td>\n",
       "      <td>638496202</td>\n",
       "      <td>2</td>\n",
       "      <td>01</td>\n",
       "      <td>...</td>\n",
       "      <td>None</td>\n",
       "      <td></td>\n",
       "      <td>1</td>\n",
       "      <td>No Quantity</td>\n",
       "      <td>1</td>\n",
       "      <td>Import</td>\n",
       "      <td>GBR</td>\n",
       "      <td>826</td>\n",
       "      <td>United Kingdom</td>\n",
       "      <td>2013</td>\n",
       "    </tr>\n",
       "    <tr>\n",
       "      <th>1</th>\n",
       "      <td>None</td>\n",
       "      <td>None</td>\n",
       "      <td>None</td>\n",
       "      <td>None</td>\n",
       "      <td>0</td>\n",
       "      <td>None</td>\n",
       "      <td>None</td>\n",
       "      <td>618257677</td>\n",
       "      <td>2</td>\n",
       "      <td>01</td>\n",
       "      <td>...</td>\n",
       "      <td>None</td>\n",
       "      <td></td>\n",
       "      <td>1</td>\n",
       "      <td>No Quantity</td>\n",
       "      <td>2</td>\n",
       "      <td>Export</td>\n",
       "      <td>GBR</td>\n",
       "      <td>826</td>\n",
       "      <td>United Kingdom</td>\n",
       "      <td>2013</td>\n",
       "    </tr>\n",
       "    <tr>\n",
       "      <th>2</th>\n",
       "      <td>None</td>\n",
       "      <td>None</td>\n",
       "      <td>None</td>\n",
       "      <td>None</td>\n",
       "      <td>0</td>\n",
       "      <td>None</td>\n",
       "      <td>None</td>\n",
       "      <td>1415</td>\n",
       "      <td>2</td>\n",
       "      <td>01</td>\n",
       "      <td>...</td>\n",
       "      <td>None</td>\n",
       "      <td></td>\n",
       "      <td>1</td>\n",
       "      <td>No Quantity</td>\n",
       "      <td>3</td>\n",
       "      <td>Re-Export</td>\n",
       "      <td>GBR</td>\n",
       "      <td>826</td>\n",
       "      <td>United Kingdom</td>\n",
       "      <td>2013</td>\n",
       "    </tr>\n",
       "    <tr>\n",
       "      <th>3</th>\n",
       "      <td>None</td>\n",
       "      <td>None</td>\n",
       "      <td>None</td>\n",
       "      <td>None</td>\n",
       "      <td>0</td>\n",
       "      <td>None</td>\n",
       "      <td>None</td>\n",
       "      <td>1814512</td>\n",
       "      <td>2</td>\n",
       "      <td>01</td>\n",
       "      <td>...</td>\n",
       "      <td>None</td>\n",
       "      <td></td>\n",
       "      <td>1</td>\n",
       "      <td>No Quantity</td>\n",
       "      <td>4</td>\n",
       "      <td>Re-Import</td>\n",
       "      <td>GBR</td>\n",
       "      <td>826</td>\n",
       "      <td>United Kingdom</td>\n",
       "      <td>2013</td>\n",
       "    </tr>\n",
       "    <tr>\n",
       "      <th>4</th>\n",
       "      <td>None</td>\n",
       "      <td>None</td>\n",
       "      <td>None</td>\n",
       "      <td>None</td>\n",
       "      <td>0</td>\n",
       "      <td>None</td>\n",
       "      <td>None</td>\n",
       "      <td>6095731992</td>\n",
       "      <td>2</td>\n",
       "      <td>02</td>\n",
       "      <td>...</td>\n",
       "      <td>None</td>\n",
       "      <td></td>\n",
       "      <td>1</td>\n",
       "      <td>No Quantity</td>\n",
       "      <td>1</td>\n",
       "      <td>Import</td>\n",
       "      <td>GBR</td>\n",
       "      <td>826</td>\n",
       "      <td>United Kingdom</td>\n",
       "      <td>2013</td>\n",
       "    </tr>\n",
       "  </tbody>\n",
       "</table>\n",
       "<p>5 rows × 35 columns</p>\n",
       "</div>"
      ],
      "text/plain": [
       "  AltQuantity CIFValue FOBValue GrossWeight  IsLeaf NetWeight TradeQuantity  \\\n",
       "0        None     None     None        None       0      None          None   \n",
       "1        None     None     None        None       0      None          None   \n",
       "2        None     None     None        None       0      None          None   \n",
       "3        None     None     None        None       0      None          None   \n",
       "4        None     None     None        None       0      None          None   \n",
       "\n",
       "   TradeValue  aggrLevel cmdCode  ...  qtAltCode qtAltDesc qtCode  \\\n",
       "0   638496202          2      01  ...       None                1   \n",
       "1   618257677          2      01  ...       None                1   \n",
       "2        1415          2      01  ...       None                1   \n",
       "3     1814512          2      01  ...       None                1   \n",
       "4  6095731992          2      02  ...       None                1   \n",
       "\n",
       "        qtDesc rgCode     rgDesc  rt3ISO rtCode         rtTitle    yr  \n",
       "0  No Quantity      1     Import     GBR    826  United Kingdom  2013  \n",
       "1  No Quantity      2     Export     GBR    826  United Kingdom  2013  \n",
       "2  No Quantity      3  Re-Export     GBR    826  United Kingdom  2013  \n",
       "3  No Quantity      4  Re-Import     GBR    826  United Kingdom  2013  \n",
       "4  No Quantity      1     Import     GBR    826  United Kingdom  2013  \n",
       "\n",
       "[5 rows x 35 columns]"
      ]
     },
     "execution_count": 11,
     "metadata": {},
     "output_type": "execute_result"
    }
   ],
   "source": [
    "un_df.head(5)"
   ]
  },
  {
   "cell_type": "code",
   "execution_count": 12,
   "metadata": {
    "collapsed": false,
    "scrolled": true
   },
   "outputs": [
    {
     "data": {
      "text/plain": [
       "AltQuantity      object\n",
       "CIFValue         object\n",
       "FOBValue         object\n",
       "GrossWeight      object\n",
       "IsLeaf            int64\n",
       "NetWeight        object\n",
       "TradeQuantity    object\n",
       "TradeValue        int64\n",
       "aggrLevel         int64\n",
       "cmdCode          object\n",
       "cmdDescE         object\n",
       "cstCode          object\n",
       "cstDesc          object\n",
       "estCode           int64\n",
       "motCode          object\n",
       "motDesc          object\n",
       "period            int64\n",
       "periodDesc       object\n",
       "pfCode           object\n",
       "pt3ISO           object\n",
       "pt3ISO2          object\n",
       "ptCode            int64\n",
       "ptCode2          object\n",
       "ptTitle          object\n",
       "ptTitle2         object\n",
       "qtAltCode        object\n",
       "qtAltDesc        object\n",
       "qtCode            int64\n",
       "qtDesc           object\n",
       "rgCode            int64\n",
       "rgDesc           object\n",
       "rt3ISO           object\n",
       "rtCode            int64\n",
       "rtTitle          object\n",
       "yr                int64\n",
       "dtype: object"
      ]
     },
     "execution_count": 12,
     "metadata": {},
     "output_type": "execute_result"
    }
   ],
   "source": [
    "un_df.dtypes"
   ]
  },
  {
   "cell_type": "code",
   "execution_count": 14,
   "metadata": {
    "collapsed": false
   },
   "outputs": [
    {
     "data": {
      "text/html": [
       "<div>\n",
       "<table border=\"1\" class=\"dataframe\">\n",
       "  <thead>\n",
       "    <tr style=\"text-align: right;\">\n",
       "      <th></th>\n",
       "      <th>IsLeaf</th>\n",
       "      <th>TradeValue</th>\n",
       "      <th>aggrLevel</th>\n",
       "      <th>estCode</th>\n",
       "      <th>period</th>\n",
       "      <th>ptCode</th>\n",
       "      <th>qtCode</th>\n",
       "      <th>rgCode</th>\n",
       "      <th>rtCode</th>\n",
       "      <th>yr</th>\n",
       "    </tr>\n",
       "  </thead>\n",
       "  <tbody>\n",
       "    <tr>\n",
       "      <th>count</th>\n",
       "      <td>371</td>\n",
       "      <td>3.710000e+02</td>\n",
       "      <td>371</td>\n",
       "      <td>371</td>\n",
       "      <td>371</td>\n",
       "      <td>371</td>\n",
       "      <td>371</td>\n",
       "      <td>371.000000</td>\n",
       "      <td>371</td>\n",
       "      <td>371</td>\n",
       "    </tr>\n",
       "    <tr>\n",
       "      <th>mean</th>\n",
       "      <td>0</td>\n",
       "      <td>3.281124e+09</td>\n",
       "      <td>2</td>\n",
       "      <td>0</td>\n",
       "      <td>2013</td>\n",
       "      <td>0</td>\n",
       "      <td>1</td>\n",
       "      <td>2.458221</td>\n",
       "      <td>826</td>\n",
       "      <td>2013</td>\n",
       "    </tr>\n",
       "    <tr>\n",
       "      <th>std</th>\n",
       "      <td>0</td>\n",
       "      <td>1.132880e+10</td>\n",
       "      <td>0</td>\n",
       "      <td>0</td>\n",
       "      <td>0</td>\n",
       "      <td>0</td>\n",
       "      <td>0</td>\n",
       "      <td>1.122380</td>\n",
       "      <td>0</td>\n",
       "      <td>0</td>\n",
       "    </tr>\n",
       "    <tr>\n",
       "      <th>min</th>\n",
       "      <td>0</td>\n",
       "      <td>1.000000e+00</td>\n",
       "      <td>2</td>\n",
       "      <td>0</td>\n",
       "      <td>2013</td>\n",
       "      <td>0</td>\n",
       "      <td>1</td>\n",
       "      <td>1.000000</td>\n",
       "      <td>826</td>\n",
       "      <td>2013</td>\n",
       "    </tr>\n",
       "    <tr>\n",
       "      <th>25%</th>\n",
       "      <td>0</td>\n",
       "      <td>1.193061e+06</td>\n",
       "      <td>2</td>\n",
       "      <td>0</td>\n",
       "      <td>2013</td>\n",
       "      <td>0</td>\n",
       "      <td>1</td>\n",
       "      <td>1.000000</td>\n",
       "      <td>826</td>\n",
       "      <td>2013</td>\n",
       "    </tr>\n",
       "    <tr>\n",
       "      <th>50%</th>\n",
       "      <td>0</td>\n",
       "      <td>1.524267e+08</td>\n",
       "      <td>2</td>\n",
       "      <td>0</td>\n",
       "      <td>2013</td>\n",
       "      <td>0</td>\n",
       "      <td>1</td>\n",
       "      <td>2.000000</td>\n",
       "      <td>826</td>\n",
       "      <td>2013</td>\n",
       "    </tr>\n",
       "    <tr>\n",
       "      <th>75%</th>\n",
       "      <td>0</td>\n",
       "      <td>1.604306e+09</td>\n",
       "      <td>2</td>\n",
       "      <td>0</td>\n",
       "      <td>2013</td>\n",
       "      <td>0</td>\n",
       "      <td>1</td>\n",
       "      <td>3.000000</td>\n",
       "      <td>826</td>\n",
       "      <td>2013</td>\n",
       "    </tr>\n",
       "    <tr>\n",
       "      <th>max</th>\n",
       "      <td>0</td>\n",
       "      <td>9.988928e+10</td>\n",
       "      <td>2</td>\n",
       "      <td>0</td>\n",
       "      <td>2013</td>\n",
       "      <td>0</td>\n",
       "      <td>1</td>\n",
       "      <td>4.000000</td>\n",
       "      <td>826</td>\n",
       "      <td>2013</td>\n",
       "    </tr>\n",
       "  </tbody>\n",
       "</table>\n",
       "</div>"
      ],
      "text/plain": [
       "       IsLeaf    TradeValue  aggrLevel  estCode  period  ptCode  qtCode  \\\n",
       "count     371  3.710000e+02        371      371     371     371     371   \n",
       "mean        0  3.281124e+09          2        0    2013       0       1   \n",
       "std         0  1.132880e+10          0        0       0       0       0   \n",
       "min         0  1.000000e+00          2        0    2013       0       1   \n",
       "25%         0  1.193061e+06          2        0    2013       0       1   \n",
       "50%         0  1.524267e+08          2        0    2013       0       1   \n",
       "75%         0  1.604306e+09          2        0    2013       0       1   \n",
       "max         0  9.988928e+10          2        0    2013       0       1   \n",
       "\n",
       "           rgCode  rtCode    yr  \n",
       "count  371.000000     371   371  \n",
       "mean     2.458221     826  2013  \n",
       "std      1.122380       0     0  \n",
       "min      1.000000     826  2013  \n",
       "25%      1.000000     826  2013  \n",
       "50%      2.000000     826  2013  \n",
       "75%      3.000000     826  2013  \n",
       "max      4.000000     826  2013  "
      ]
     },
     "execution_count": 14,
     "metadata": {},
     "output_type": "execute_result"
    }
   ],
   "source": [
    "un_df.describe()"
   ]
  },
  {
   "cell_type": "markdown",
   "metadata": {},
   "source": [
    "## Data Processing"
   ]
  },
  {
   "cell_type": "markdown",
   "metadata": {},
   "source": [
    "Reference Tables for Database @\n",
    "http://unstats.un.org/unsd/tradekb/Knowledgebase/UN-Comtrade-Reference-Tables\n",
    "\n"
   ]
  },
  {
   "cell_type": "code",
   "execution_count": null,
   "metadata": {
    "collapsed": true
   },
   "outputs": [],
   "source": []
  }
 ],
 "metadata": {
  "kernelspec": {
   "display_name": "Python 3",
   "language": "python",
   "name": "python3"
  },
  "language_info": {
   "codemirror_mode": {
    "name": "ipython",
    "version": 3
   },
   "file_extension": ".py",
   "mimetype": "text/x-python",
   "name": "python",
   "nbconvert_exporter": "python",
   "pygments_lexer": "ipython3",
   "version": "3.4.3"
  }
 },
 "nbformat": 4,
 "nbformat_minor": 0
}
